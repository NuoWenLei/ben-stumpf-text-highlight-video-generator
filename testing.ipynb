{
 "cells": [
  {
   "cell_type": "code",
   "execution_count": 1,
   "metadata": {},
   "outputs": [],
   "source": [
    "from readability import Document\n",
    "from bs4 import BeautifulSoup\n",
    "import requests"
   ]
  },
  {
   "cell_type": "code",
   "execution_count": 2,
   "metadata": {},
   "outputs": [],
   "source": [
    "r = requests.get(\"https://en.wikipedia.org/wiki/Tennis\")"
   ]
  },
  {
   "cell_type": "code",
   "execution_count": 3,
   "metadata": {},
   "outputs": [
    {
     "data": {
      "text/plain": [
       "'Tennis - Wikipedia'"
      ]
     },
     "execution_count": 3,
     "metadata": {},
     "output_type": "execute_result"
    }
   ],
   "source": [
    "doc = Document(r.text)\n",
    "doc.title()"
   ]
  },
  {
   "cell_type": "code",
   "execution_count": 5,
   "metadata": {},
   "outputs": [],
   "source": [
    "soup = BeautifulSoup(doc.summary(), \"html.parser\")"
   ]
  },
  {
   "cell_type": "code",
   "execution_count": 19,
   "metadata": {},
   "outputs": [
    {
     "name": "stdout",
     "output_type": "stream",
     "text": [
      "Racket sport\n",
      "\n",
      "\n",
      "Tennis is a racket sport that is played either individually against a single opponent (singles) or between two teams of two players each (doubles). Each player uses a tennis racket that is strung with cord to strike a hollow rubber ball covered with felt over or around a net and into the opponent's court. The object of the game is to manoeuvre the ball in such a way that the opponent is not able to play a valid return. The player who is unable to return the ball validly will not gain a point, while the opposite player will.[1][2]\n",
      "Tennis is an Olympic sport and is played at all levels of society and at all ages. The sport can be played by anyone who can hold a racket, including wheelchair users. The modern game of tennis originated in Birmingham, England, in the late 19th century as lawn tennis.[3] It had close connections both to various field (lawn) games such as croquet and bowls as well as to the older racket sport today called real tennis.[4]\n",
      "The rules of modern tennis have changed little since the 1890s. Two exceptions are that until 1961 the server had to keep one foot on the ground at all times,[5][6] and the adoption of the tiebreak in the 1970s.[7] A recent addition to professional tennis has been the adoption of electronic review technology coupled with a point-challenge system, which allows a player to contest the line call of a point, a system known as Hawk-Eye.[8][9]\n",
      "Tennis is played by millions of recreational players and is also a popular worldwide spectator sport.[10] The four Grand Slam tournaments (also referred to as the Majors) are especially popular: the Australian Open played on hard courts, the French Open played on red clay courts, Wimbledon played on grass courts, and the US Open also played on hard courts.[11]\n",
      "\n",
      "History\n",
      "Predecessors\n",
      " Painting from Cremona; end of the 16th century.\n",
      " Jeu de paume in the 17th century\n",
      "Historians believe that the game's ancient origin lay in 12th century northern France, where a ball was struck with the palm of the hand.[12] Louis X of France was a keen player of jeu de paume (\"game of the palm\"), which evolved into real tennis, and became notable as the first person to construct indoor tennis courts in the modern style. Louis was unhappy with playing tennis outdoors and accordingly had indoor, enclosed courts made in Paris \"around the end of the 13th century\".[13] In due course this design spread across royal palaces all over Europe.[13] In June 1316 at Vincennes, Val-de-Marne, and following a particularly exhausting game, Louis drank a large quantity of cooled wine and subsequently died of either pneumonia or pleurisy, although there was also suspicion of poisoning.[14] Because of the contemporary accounts of his death, Louis X is history's first tennis player known by name.[14] Another of the early enthusiasts of the game was King Charles V of France, who had a court set up at the Louvre Palace.[15]\n",
      "It was not until the 16th century that rackets came into use and the game began to be called \"tennis\", from the French term tenez, which can be translated as \"hold!\", \"receive!\" or \"take!\", an interjection used as a call from the server to his opponent.[16] It was popular in England and France, although the game was only played indoors, where the ball could be hit off the wall. Henry VIII of England was a big fan of this game, which is now known as real tennis.[17]\n",
      "An epitaph in St Michael's Church, Coventry, written circa 1705, read, in part:[18]\n",
      "\n",
      "\n",
      "Here lyes an old toss'd Tennis Ball:\n",
      "Was racketted, from spring to fall,\n",
      "With so much heat and so much hast,\n",
      "Time's arm for shame grew tyred at last.\n",
      "\n",
      "\n",
      "During the 18th and early 19th centuries, as real tennis declined, new racket sports emerged in England.[19]\n",
      "The invention of the first lawn mower in Britain in 1830 is believed to have been a catalyst for the preparation of modern-style grass courts, sporting ovals, playing fields, pitches, greens, etc. This in turn led to the codification of modern rules for many sports, including lawn tennis, most football codes, lawn bowls and others.[20]\n",
      "\n",
      "Origins of the modern game\n",
      "Between 1859 and 1865 Harry Gem, a solicitor and his friend Augurio Perera developed a game that combined elements of racquets and the Basque ball game pelota, which they played on Perera's croquet lawn in Birmingham in England.[21][22] In 1872, along with two local doctors, they founded the world's first tennis club on Avenue Road, Leamington Spa.[23] This is where \"lawn tennis\" was used as a name of activity by a club for the first time.\n",
      "In Tennis: A Cultural History, Heiner Gillmeister reveals that on 8 December 1874, British army officer Walter Clopton Wingfield wrote to Harry Gem, commenting that he (Wingfield) had been experimenting with his version of lawn tennis \"for a year and a half\".[24] In December 1873, Wingfield designed and patented a game which he called sphairistikè (Greek: σφαιριστική, meaning \"ball-playing\"), and was soon known simply as \"sticky\" – for the amusem\n"
     ]
    }
   ],
   "source": []
  },
  {
   "cell_type": "code",
   "execution_count": null,
   "metadata": {},
   "outputs": [],
   "source": []
  }
 ],
 "metadata": {
  "kernelspec": {
   "display_name": "Python 3.7.9 ('stumpf-text-highlight': venv)",
   "language": "python",
   "name": "python3"
  },
  "language_info": {
   "codemirror_mode": {
    "name": "ipython",
    "version": 3
   },
   "file_extension": ".py",
   "mimetype": "text/x-python",
   "name": "python",
   "nbconvert_exporter": "python",
   "pygments_lexer": "ipython3",
   "version": "3.7.9"
  },
  "orig_nbformat": 4,
  "vscode": {
   "interpreter": {
    "hash": "43217d3e5a0346669de292ae5767f7b7a0ca7bf5178b33dd4e7b70ab5e13f6fd"
   }
  }
 },
 "nbformat": 4,
 "nbformat_minor": 2
}
